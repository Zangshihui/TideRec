{
 "cells": [
  {
   "cell_type": "code",
   "execution_count": 2,
   "metadata": {},
   "outputs": [],
   "source": [
    "import numpy as np\n",
    "from TideRec import Rec\n",
    "from TideRec import Power\n",
    "import matplotlib.pyplot as plt"
   ]
  },
  {
   "cell_type": "code",
   "execution_count": 3,
   "metadata": {},
   "outputs": [
    {
     "name": "stdout",
     "output_type": "stream",
     "text": [
      "================================================================================\n",
      "Reconstruction box parameters:\n",
      "BoxSize: 250.000000, NMesh: 256\n",
      "================================================================================\n",
      "================================================================================\n",
      "Reading mode: binary\n",
      "Reading density field ...\n",
      "Reading completed.\n",
      "================================================================================\n",
      "================================================================================\n",
      "Tidal Reconstruction Parameters:\n",
      "RecMode: 5term, Filter Scale: 1.000000\n",
      "Tidal reconstruction begins ...\n",
      "Tidal reconstruction completed.\n",
      "================================================================================\n"
     ]
    }
   ],
   "source": [
    "BoxSize = 250.0\n",
    "NMesh = 256\n",
    "MyRec = Rec(BoxSize = BoxSize, NMesh = NMesh)\n",
    "MyRec.Read(mode = 'binary', path = '../exam/exam_data/Ng256_Density.bin')\n",
    "MyRec.AutoRec(mode ='5term', sigma = 1)"
   ]
  },
  {
   "cell_type": "code",
   "execution_count": 6,
   "metadata": {},
   "outputs": [
    {
     "name": "stdout",
     "output_type": "stream",
     "text": [
      "================================================================================\n",
      "Bin style:\n",
      "style: linear, binnum: 64\n",
      "================================================================================\n",
      "================================================================================\n",
      "Analyze box parameters:\n",
      "BoxSize: 250.000000, NMesh: 256\n",
      "================================================================================\n",
      "================================================================================\n",
      "Reading dark matter density ...\n",
      "================================================================================\n"
     ]
    }
   ],
   "source": [
    "MyPower = Power(Rec = MyRec, path = '../exam/exam_data/Ng256_Density.bin')"
   ]
  },
  {
   "cell_type": "code",
   "execution_count": 12,
   "metadata": {},
   "outputs": [
    {
     "name": "stdout",
     "output_type": "stream",
     "text": [
      "================================================================================\n",
      "Power parameters:\n",
      "mode: DM, Dim: 1D\n",
      "Power computing ...\n",
      "Power compute completed.\n",
      "================================================================================\n"
     ]
    },
    {
     "data": {
      "image/png": "[encoded data removed]",
      "text/plain": [
       "<Figure size 432x288 with 1 Axes>"
      ]
     },
     "metadata": {
      "needs_background": "light"
     },
     "output_type": "display_data"
    }
   ],
   "source": [
    "n, k, pk = MyPower.Compute(mode = 'DM')\n",
    "if MyPower.rank == 0:\n",
    "    plt.loglog(k, pk)\n",
    "    plt.xlim([0.03, 1])\n",
    "    plt.show()"
   ]
  },
  {
   "cell_type": "code",
   "execution_count": 11,
   "metadata": {},
   "outputs": [
    {
     "name": "stdout",
     "output_type": "stream",
     "text": [
      "================================================================================\n",
      "Power parameters:\n",
      "mode: Rec, Dim: 1D\n",
      "Power computing ...\n",
      "Power compute completed.\n",
      "================================================================================\n"
     ]
    },
    {
     "data": {
      "image/png": "[encoded data removed]",
      "text/plain": [
       "<Figure size 432x288 with 1 Axes>"
      ]
     },
     "metadata": {
      "needs_background": "light"
     },
     "output_type": "display_data"
    }
   ],
   "source": [
    "n, k, pk = MyPower.Compute(mode = 'Rec')\n",
    "if MyPower.rank == 0:\n",
    "    plt.loglog(k, pk)\n",
    "    plt.xlim([0.03, 1])\n",
    "    plt.show()"
   ]
  },
  {
   "cell_type": "code",
   "execution_count": 13,
   "metadata": {},
   "outputs": [
    {
     "name": "stdout",
     "output_type": "stream",
     "text": [
      "================================================================================\n",
      "Power parameters:\n",
      "mode: Cross, Dim: 1D\n",
      "Power computing ...\n",
      "Power compute completed.\n",
      "================================================================================\n"
     ]
    },
    {
     "data": {
      "image/png": "[encoded data removed]",
      "text/plain": [
       "<Figure size 432x288 with 1 Axes>"
      ]
     },
     "metadata": {
      "needs_background": "light"
     },
     "output_type": "display_data"
    }
   ],
   "source": [
    "n, k, pk = MyPower.Compute(mode = 'Cross')\n",
    "if MyPower.rank == 0:\n",
    "    plt.loglog(k, pk)\n",
    "    plt.xlim([0.03, 1])\n",
    "    plt.show()"
   ]
  }
 ],
 "metadata": {
  "interpreter": {
   "hash": "31f2aee4e71d21fbe5cf8b01ff0e069b9275f58929596ceb00d14d90e3e16cd6"
  },
  "kernelspec": {
   "display_name": "Python 3.8.2 64-bit",
   "language": "python",
   "name": "python3"
  },
  "language_info": {
   "codemirror_mode": {
    "name": "ipython",
    "version": 3
   },
   "file_extension": ".py",
   "mimetype": "text/x-python",
   "name": "python",
   "nbconvert_exporter": "python",
   "pygments_lexer": "ipython3",
   "version": "3.8.8"
  },
  "orig_nbformat": 4
 },
 "nbformat": 4,
 "nbformat_minor": 2
}

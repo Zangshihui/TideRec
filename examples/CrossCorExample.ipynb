{
 "cells": [
  {
   "cell_type": "code",
   "execution_count": 1,
   "metadata": {},
   "outputs": [],
   "source": [
    "import numpy as np\n",
    "from TideRec import Rec\n",
    "from TideRec import CrossCor\n",
    "import matplotlib.pyplot as plt"
   ]
  },
  {
   "cell_type": "code",
   "execution_count": 5,
   "metadata": {},
   "outputs": [
    {
     "name": "stdout",
     "output_type": "stream",
     "text": [
      "================================================================================\n",
      "Reconstruction box parameters:\n",
      "BoxSize: 250.000000, NMesh: 256\n",
      "================================================================================\n",
      "================================================================================\n",
      "Reading mode: binary\n",
      "Reading density field ...\n",
      "Reading completed.\n",
      "================================================================================\n",
      "================================================================================\n",
      "Tidal Reconstruction Parameters:\n",
      "RecMode: 5term, Filter Scale: 1.000000\n",
      "Tidal reconstruction begins ...\n",
      "Tidal reconstruction completed.\n",
      "================================================================================\n",
      "================================================================================\n",
      "Reconstruction box parameters:\n",
      "BoxSize: 250.000000, NMesh: 256\n",
      "================================================================================\n",
      "================================================================================\n",
      "Reading mode: binary\n",
      "Reading density field ...\n",
      "Reading completed.\n",
      "================================================================================\n",
      "================================================================================\n",
      "Tidal Reconstruction Parameters:\n",
      "RecMode: 2term, Filter Scale: 1.000000\n",
      "Tidal reconstruction begins ...\n",
      "Tidal reconstruction completed.\n",
      "================================================================================\n"
     ]
    }
   ],
   "source": [
    "BoxSize = 250.0\n",
    "NMesh = 256\n",
    "MyRec5 = Rec(BoxSize = BoxSize, NMesh = NMesh)\n",
    "MyRec5.Read(mode = 'binary', path = '../exam/exam_data/Ng256_Density.bin')\n",
    "MyRec5.AutoRec(mode ='5term', sigma = 1)\n",
    "MyRec2 = Rec(BoxSize = BoxSize, NMesh = NMesh)\n",
    "MyRec2.Read(mode = 'binary', path = '../exam/exam_data/Ng256_Density.bin')\n",
    "MyRec2.AutoRec(mode ='2term', sigma = 1)"
   ]
  },
  {
   "cell_type": "code",
   "execution_count": 18,
   "metadata": {},
   "outputs": [
    {
     "name": "stdout",
     "output_type": "stream",
     "text": [
      "================================================================================\n",
      "Bin style:\n",
      "style: linear, binnum: 64\n",
      "================================================================================\n",
      "================================================================================\n",
      "Analyze box parameters:\n",
      "BoxSize: 250.000000, NMesh: 256\n",
      "================================================================================\n",
      "================================================================================\n",
      "Reading dark matter density ...\n",
      "================================================================================\n",
      "================================================================================\n",
      "Bin style:\n",
      "style: linear, binnum: 64\n",
      "================================================================================\n",
      "================================================================================\n",
      "Analyze box parameters:\n",
      "BoxSize: 250.000000, NMesh: 256\n",
      "================================================================================\n",
      "================================================================================\n",
      "Reading dark matter density ...\n",
      "================================================================================\n"
     ]
    }
   ],
   "source": [
    "MyCor5 = CrossCor(Rec = MyRec5, path = '../exam/exam_data/Ng256_Density.bin')\n",
    "MyCor2 = CrossCor(Rec = MyRec2, path = '../exam/exam_data/Ng256_Density.bin')"
   ]
  },
  {
   "cell_type": "code",
   "execution_count": 19,
   "metadata": {},
   "outputs": [
    {
     "name": "stdout",
     "output_type": "stream",
     "text": [
      "================================================================================\n",
      "Cross Correlation parameters:\n",
      "Dim: 1D\n",
      "Cross Correlation computing ...\n",
      "Cross Correlation compute completed.\n",
      "================================================================================\n",
      "================================================================================\n",
      "Cross Correlation parameters:\n",
      "Dim: 1D\n",
      "Cross Correlation computing ...\n",
      "Cross Correlation compute completed.\n",
      "================================================================================\n"
     ]
    },
    {
     "data": {
      "image/png": "[encoded data removed]",
      "text/plain": [
       "<Figure size 432x288 with 1 Axes>"
      ]
     },
     "metadata": {
      "needs_background": "light"
     },
     "output_type": "display_data"
    }
   ],
   "source": [
    "n, k, rk = MyCor5.Compute()\n",
    "if MyCor5.rank == 0:\n",
    "    plt.semilogx(k, rk, label = '5term')\n",
    "    plt.xlim([0.03, 1])\n",
    "    plt.ylim([0, 1])\n",
    "n, k, rk = MyCor2.Compute()\n",
    "if MyCor5.rank == 0:\n",
    "    plt.semilogx(k, rk, label = '2term')\n",
    "    plt.xlim([0.03, 1])\n",
    "    plt.ylim([0, 1])\n",
    "    plt.legend()\n",
    "    plt.show()"
   ]
  },
  {
   "cell_type": "code",
   "execution_count": 17,
   "metadata": {},
   "outputs": [
    {
     "name": "stdout",
     "output_type": "stream",
     "text": [
      "================================================================================\n",
      "Bin style:\n",
      "style: log, binnum: 10\n",
      "================================================================================\n",
      "================================================================================\n",
      "Bin style:\n",
      "style: log, binnum: 10\n",
      "================================================================================\n",
      "================================================================================\n",
      "Cross Correlation parameters:\n",
      "Dim: 1D\n",
      "Cross Correlation computing ...\n",
      "Cross Correlation compute completed.\n",
      "================================================================================\n",
      "================================================================================\n",
      "Cross Correlation parameters:\n",
      "Dim: 1D\n",
      "Cross Correlation computing ...\n",
      "Cross Correlation compute completed.\n",
      "================================================================================\n"
     ]
    },
    {
     "data": {
      "image/png": "[encoded data removed]",
      "text/plain": [
       "<Figure size 432x288 with 1 Axes>"
      ]
     },
     "metadata": {
      "needs_background": "light"
     },
     "output_type": "display_data"
    }
   ],
   "source": [
    "MyCor5.setbin(style = 'log', binnum = 10)\n",
    "MyCor2.setbin(style = 'log', binnum = 10)\n",
    "n, k, rk = MyCor5.Compute()\n",
    "if MyCor5.rank == 0:\n",
    "    plt.semilogx(k, rk, label = '5term')\n",
    "    plt.xlim([0.03, 1])\n",
    "    plt.ylim([0, 1])\n",
    "n, k, rk = MyCor2.Compute()\n",
    "if MyCor2.rank == 0:\n",
    "    plt.semilogx(k, rk, label = '2term')\n",
    "    plt.xlim([0.03, 1])\n",
    "    plt.ylim([0, 1])\n",
    "    plt.legend()\n",
    "    plt.show()"
   ]
  }
 ],
 "metadata": {
  "interpreter": {
   "hash": "61a57a4b5406d2de388e2f91097d4e4bcd7d5f4a46f53a795aa28a02eed27fc5"
  },
  "kernelspec": {
   "display_name": "Python 3.8.8 64-bit ('base': conda)",
   "language": "python",
   "name": "python3"
  },
  "language_info": {
   "codemirror_mode": {
    "name": "ipython",
    "version": 3
   },
   "file_extension": ".py",
   "mimetype": "text/x-python",
   "name": "python",
   "nbconvert_exporter": "python",
   "pygments_lexer": "ipython3",
   "version": "3.8.8"
  },
  "orig_nbformat": 4
 },
 "nbformat": 4,
 "nbformat_minor": 2
}

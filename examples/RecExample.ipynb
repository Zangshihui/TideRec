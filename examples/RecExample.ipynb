{
 "cells": [
  {
   "cell_type": "code",
   "execution_count": 4,
   "metadata": {},
   "outputs": [],
   "source": [
    "import numpy as np\n",
    "from TideRec import Rec\n",
    "import matplotlib.pyplot as plt"
   ]
  },
  {
   "cell_type": "code",
   "execution_count": 5,
   "metadata": {},
   "outputs": [
    {
     "name": "stdout",
     "output_type": "stream",
     "text": [
      "================================================================================\n",
      "Reconstruction box parameters:\n",
      "BoxSize: 250.000000, NMesh: 256\n",
      "================================================================================\n"
     ]
    }
   ],
   "source": [
    "BoxSize = 250.0\n",
    "NMesh = 256\n",
    "MyRec = Rec(BoxSize = BoxSize, NMesh = NMesh)"
   ]
  },
  {
   "cell_type": "code",
   "execution_count": 6,
   "metadata": {},
   "outputs": [
    {
     "name": "stdout",
     "output_type": "stream",
     "text": [
      "================================================================================\n",
      "Reading mode: binary\n",
      "Reading density field ...\n",
      "Reading completed.\n",
      "================================================================================\n"
     ]
    }
   ],
   "source": [
    "MyRec.Read(mode = 'binary', path = '../exam/exam_data/Ng256_Density.bin')"
   ]
  },
  {
   "cell_type": "code",
   "execution_count": 7,
   "metadata": {},
   "outputs": [
    {
     "name": "stdout",
     "output_type": "stream",
     "text": [
      "================================================================================\n",
      "Tidal Reconstruction Parameters:\n",
      "RecMode: 5term, Filter Scale: 1.000000\n",
      "Tidal reconstruction begins ...\n",
      "Tidal reconstruction completed.\n",
      "================================================================================\n"
     ]
    }
   ],
   "source": [
    "MyRec.AutoRec(mode ='5term', sigma = 1)"
   ]
  },
  {
   "cell_type": "code",
   "execution_count": 8,
   "metadata": {},
   "outputs": [
    {
     "name": "stdout",
     "output_type": "stream",
     "text": [
      "================================================================================\n",
      "Saving mode: binary\n",
      "Saving data ...\n",
      "Saving completed.\n",
      "================================================================================\n"
     ]
    }
   ],
   "source": [
    "MyRec.Save(data = MyRec.Get('density'), path = './data.bin')"
   ]
  }
 ],
 "metadata": {
  "interpreter": {
   "hash": "61a57a4b5406d2de388e2f91097d4e4bcd7d5f4a46f53a795aa28a02eed27fc5"
  },
  "kernelspec": {
   "display_name": "Python 3.8.8 64-bit ('base': conda)",
   "language": "python",
   "name": "python3"
  },
  "language_info": {
   "codemirror_mode": {
    "name": "ipython",
    "version": 3
   },
   "file_extension": ".py",
   "mimetype": "text/x-python",
   "name": "python",
   "nbconvert_exporter": "python",
   "pygments_lexer": "ipython3",
   "version": "3.8.8"
  },
  "orig_nbformat": 4
 },
 "nbformat": 4,
 "nbformat_minor": 2
}
